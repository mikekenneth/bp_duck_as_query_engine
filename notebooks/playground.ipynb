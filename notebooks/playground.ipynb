{
 "cells": [
  {
   "cell_type": "code",
   "execution_count": 15,
   "metadata": {},
   "outputs": [],
   "source": [
    "from faker import Faker\n",
    "\n",
    "Faker.seed(0.4213)\n",
    "fake = Faker()\n",
    "\n",
    "customer_ids = [\"1\",\"10\",\"100\",\"101\",\"102\",\"105\",\"106\",\"109\",\"11\",\"110\",\"113\",\"114\",\"115\",\"117\",\"118\",\"119\",\"12\",\"120\",\"125\",\"127\",\"128\",\"129\",\"131\",\"133\",\"134\",\"135\",\"136\",\"137\",\"139\",\"14\",\"140\",\"141\",\"144\",\"145\",\"146\",\"147\",\"149\",\"15\",\"150\",\"152\",\"156\",\"158\",\"159\",\"16\",\"162\",\"167\",\"168\",\"169\",\"171\",\"177\",\"178\",\"179\",\"181\",\"183\",\"185\",\"186\",\"187\",\"188\",\"19\",\"190\",\"192\",\"193\",\"195\",\"196\",\"197\",\"198\",\"199\",\"20\",\"200\",\"201\",\"202\",\"203\",\"204\",\"205\",\"206\",\"208\",\"209\",\"21\",\"210\",\"211\",\"213\",\"215\",\"216\",\"217\",\"219\",\"221\",\"224\",\"225\",\"227\",\"228\",\"229\",\"230\",\"232\",\"233\",\"234\",\"235\",\"236\",\"24\",\"240\",\"241\",\"242\",\"245\",\"246\",\"248\",\"249\",\"250\",\"251\",\"254\",\"257\",\"259\",\"260\",\"261\",\"263\",\"264\",\"265\",\"268\",\"272\",\"273\",\"275\",\"276\",\"278\",\"279\",\"28\",\"280\",\"281\",\"282\",\"283\",\"284\",\"285\",\"287\",\"289\",\"290\",\"291\",\"292\",\"295\",\"297\",\"298\",\"299\",\"300\",\"303\",\"304\",\"306\",\"307\",\"308\",\"309\",\"31\",\"310\",\"313\",\"314\",\"316\",\"318\",\"32\",\"320\",\"321\",\"322\",\"323\",\"324\",\"325\",\"326\",\"328\",\"329\",\"331\",\"332\",\"333\",\"335\",\"336\",\"337\",\"338\",\"339\",\"340\",\"341\",\"342\",\"343\",\"344\",\"345\",\"346\",\"347\",\"35\",\"351\",\"352\",\"353\",\"354\",\"356\",\"357\",\"358\",\"36\",\"361\",\"364\",\"365\",\"367\",\"371\",\"372\",\"375\",\"376\",\"377\",\"378\",\"380\",\"381\",\"382\",\"385\",\"387\",\"388\",\"390\",\"392\",\"393\",\"394\",\"395\",\"396\",\"397\",\"398\",\"40\",\"400\",\"401\",\"402\",\"404\",\"405\",\"406\",\"408\",\"409\",\"41\",\"412\",\"415\",\"417\",\"42\",\"420\",\"421\",\"422\",\"423\",\"424\",\"425\",\"426\",\"428\",\"429\",\"431\",\"437\",\"438\",\"439\",\"44\",\"440\",\"443\",\"444\",\"445\",\"446\",\"447\",\"450\",\"452\",\"453\",\"454\",\"455\",\"456\",\"459\",\"461\",\"463\",\"464\",\"465\",\"467\",\"468\",\"469\",\"470\",\"472\",\"473\",\"475\",\"476\",\"477\",\"478\",\"480\",\"481\",\"483\",\"486\",\"487\",\"488\",\"489\",\"49\",\"494\",\"495\",\"496\",\"497\",\"499\",\"5\",\"50\",\"500\",\"502\",\"503\",\"504\",\"505\",\"506\",\"51\",\"510\",\"511\",\"513\",\"514\",\"515\",\"516\",\"517\",\"518\",\"52\",\"520\",\"521\",\"522\",\"523\",\"525\",\"526\",\"527\",\"528\",\"529\",\"530\",\"531\",\"533\",\"534\",\"535\",\"536\",\"538\",\"54\",\"542\",\"543\",\"544\",\"545\",\"547\",\"549\",\"55\",\"550\",\"552\",\"554\",\"555\",\"557\",\"558\",\"559\",\"562\",\"563\",\"564\",\"568\",\"569\",\"57\",\"570\",\"571\",\"572\",\"573\",\"574\",\"575\",\"576\",\"577\",\"58\",\"580\",\"581\",\"582\",\"583\",\"584\",\"585\",\"586\",\"589\",\"59\",\"590\",\"591\",\"592\",\"593\",\"595\",\"596\",\"597\",\"598\",\"599\",\"60\",\"601\",\"603\",\"604\",\"607\",\"608\",\"61\",\"610\",\"612\",\"614\",\"615\",\"616\",\"617\",\"618\",\"620\",\"621\",\"622\",\"623\",\"624\",\"625\",\"626\",\"629\",\"63\",\"631\",\"632\",\"633\",\"635\",\"636\",\"638\",\"639\",\"64\",\"640\",\"641\",\"642\",\"644\",\"645\",\"646\",\"647\",\"648\",\"649\",\"65\",\"653\",\"655\",\"656\",\"659\",\"660\",\"661\",\"662\",\"664\",\"665\",\"667\",\"671\",\"672\",\"675\",\"676\",\"680\",\"681\",\"683\",\"684\",\"685\",\"686\",\"688\",\"69\",\"691\",\"693\",\"695\",\"696\",\"697\",\"699\",\"70\",\"701\",\"703\",\"704\",\"706\",\"707\",\"709\",\"71\",\"710\",\"712\",\"714\",\"715\",\"718\",\"719\",\"720\",\"723\",\"724\",\"725\",\"727\",\"728\",\"729\",\"730\",\"731\",\"732\",\"733\",\"734\",\"738\",\"739\",\"74\",\"740\",\"741\",\"742\",\"744\",\"745\",\"746\",\"748\",\"749\",\"752\",\"753\",\"754\",\"755\",\"756\",\"759\",\"76\",\"760\",\"761\",\"762\",\"763\",\"765\",\"768\",\"77\",\"770\",\"771\",\"773\",\"774\",\"776\",\"777\",\"778\",\"779\",\"780\",\"783\",\"784\",\"785\",\"786\",\"789\",\"79\",\"790\",\"791\",\"794\",\"795\",\"797\",\"798\",\"799\",\"8\",\"801\",\"802\",\"803\",\"804\",\"805\",\"807\",\"808\",\"809\",\"81\",\"810\",\"811\",\"812\",\"814\",\"815\",\"817\",\"818\",\"82\",\"820\",\"821\",\"823\",\"824\",\"825\",\"826\",\"828\",\"829\",\"830\",\"832\",\"834\",\"837\",\"838\",\"841\",\"843\",\"844\",\"845\",\"848\",\"854\",\"855\",\"856\",\"859\",\"86\",\"864\",\"865\",\"866\",\"867\",\"868\",\"869\",\"87\",\"871\",\"874\",\"875\",\"877\",\"879\",\"88\",\"880\",\"881\",\"882\",\"884\",\"885\",\"886\",\"887\",\"890\",\"891\",\"893\",\"894\",\"896\",\"897\",\"899\",\"90\",\"900\",\"901\",\"902\",\"906\",\"907\",\"909\",\"91\",\"910\",\"911\",\"912\",\"916\",\"919\",\"92\",\"924\",\"925\",\"926\",\"928\",\"929\",\"930\",\"931\",\"933\",\"934\",\"936\",\"937\",\"94\",\"940\",\"941\",\"942\",\"943\",\"945\",\"946\",\"947\",\"948\",\"95\",\"956\",\"957\",\"958\",\"959\",\"963\",\"964\",\"965\",\"966\",\"967\",\"968\",\"97\",\"970\",\"971\",\"973\",\"974\",\"977\",\"980\",\"981\",\"982\",\"984\",\"985\",\"986\",\"987\",\"988\",\"989\",\"990\",\"991\",\"992\",\"996\",\"997\",\"998\",\"999\"]\n",
    "with open('/home/mike/Projects/personal/bp_duck_as_query_engine/data/raw/customer.csv', 'w') as customer_file:\n",
    "    customer_file.write('id,name,sex,address,mail,birth_date\\n')\n",
    "    for id in customer_ids:\n",
    "        profile = fake.profile()\n",
    "        customer_file.write(f\"{id},{profile['name']},{profile['sex']},{profile['address'].replace('\\n',' ').replace(',',' ')},{profile['mail']}, {profile['birthdate']}\\n\")"
   ]
  },
  {
   "cell_type": "code",
   "execution_count": 13,
   "metadata": {},
   "outputs": [
    {
     "name": "stdout",
     "output_type": "stream",
     "text": [
      "241-52-7409,Top Cab,96082 John Walks New Tracybury  ME 24575,1971-09-27,749\n",
      "696-03-9733,Taxicab Insurance Agency, LLC,9317 Andres Skyway Apt. 058 West Andrew  NY 43594,1916-08-16,32\n",
      "651-46-9146,Patriot Taxi Dba Peace Taxi Associat,10744 Johnson Summit Davefort  VT 01050,1983-05-02,858\n",
      "270-14-8203,Taxi Affiliation Services Llc - Yell,893 Rodriguez Key Apt. 927 Steventown  GA 65992,1954-10-01,333\n",
      "239-89-1092,2733 - 74600 Benny Jona,69858 Heather Corner Rebeccaland  MA 01543,2015-03-18,521\n",
      "094-41-7936,5167 - 71969 5167 Taxi Inc,65587 Bradley Underpass Apt. 912 Benjaminstad  PW 16733,1973-08-27,143\n",
      "140-55-9878,6574 - Babylon Express Inc.,83646 Victoria Ports Apt. 723 Lake Steve  WA 18592,1983-02-09,570\n",
      "281-32-3133,Petani Cab Corp,3277 Christopher Flat Apt. 365 Williamshaven  TN 28116,1966-06-01,348\n",
      "796-07-1394,Sun Taxi,0411 Tyler Throughway Suite 914 North Amystad  AR 99277,1937-02-12,6\n",
      "174-19-0083,5 Star Taxi,42420 Thomas Plain Suite 642 Lake Alejandraberg  NY 28002,1913-07-20,797\n",
      "727-80-1917,City Service,6022 Brown Harbor Donaldside  SD 86184,1918-10-07,271\n",
      "718-09-5046,Choice Taxi Association Inc,914 Cathy Path Apt. 272 South Mark  NC 86590,1921-06-25,141\n",
      "716-84-4777,Choice Taxi Association,PSC 1539  Box 4354 APO AP 05413,1998-09-16,957\n",
      "218-48-5852,Medallion Leasin,7675 Wallace Passage Chambersfort  DE 32055,1966-12-23,430\n",
      "093-93-4102,312 Medallion Management Corp,2337 John Shore Shermanfurt  TN 27933,1996-04-18,116\n",
      "567-57-8660,Globe Taxi,61761 Jacob Ports Apt. 063 North Saratown  CO 02808,1967-11-23,533\n",
      "051-83-8174,Flash Cab,103 Brandon Pike Brianchester  TX 31434,1909-05-19,674\n",
      "208-43-5503,Chicago Independents,3013 Tanya Stream Smithburgh  AL 98412,1932-08-28,759\n",
      "205-21-1535,Setare Inc,966 Baker Pine Apt. 438 East Jamesside  CA 83656,1976-09-21,912\n",
      "630-67-3173,Chicago Taxicab,66914 Smith Shores Rosetown  SC 11586,1951-08-02,873\n",
      "446-81-7456,Koam Taxi Association,300 James Garden Lake Annaside  TN 11432,1946-09-09,410\n",
      "435-38-9642,Metro Jet Taxi A.,27485 Chelsea Unions Suite 800 Wandaborough  TN 73384,1951-03-18,143\n",
      "331-35-7784,Tac - Yellow Cab Association,USS Murphy FPO AP 43881,1911-09-26,979\n",
      "527-63-7101,3591 - 63480 Chuks Cab,906 John Plain West Rachelhaven  CT 95474,2010-04-26,171\n",
      "269-09-5968,Star North Taxi Management Llc,632 Christian Villages Lake James  NM 36630,2012-12-03,75\n",
      "606-71-6256,Tac - Checker Cab Dispatch,9334 Davis Forges Suite 549 Christinefort  NJ 09019,2020-09-14,334\n",
      "050-59-9237,4787 - 56058 Reny Cab Co,2400 Graham Knolls North Kristen  FL 03335,1916-09-23,379\n",
      "067-30-3408,Taxi Affiliation Services,32394 Thomas Meadows Apt. 954 Michaelberg  FL 20302,1935-10-12,559\n",
      "194-45-1203,Taxicab Insurance Agency Llc,77861 Carter View Suite 948 Nicholasland  WA 81942,1944-07-29,403\n",
      "700-40-0216,U Taxicab,6699 Dunlap Burgs Suite 359 New Davidbury  WA 01829,1911-12-08,765\n",
      "332-31-6896,Blue Ribbon Taxi Association,048 Keith Crossing Lake Charlenefurt  VT 06912,1973-09-26,134\n",
      "433-07-7669,Chicago City Taxi Association,196 Foley Road Danielfort  MP 00718,1992-06-09,67\n",
      "476-95-7578,4053 - 40193 Adwar H. Nikola,957 Smith Tunnel Apt. 613 North Christina  MA 67936,1949-11-02,431\n",
      "115-43-0819,3556 - 36214 RC Andrews Cab,872 Lisa Plaza Padillaburgh  SC 39910,1995-06-28,87\n",
      "232-82-2772,4623 - 27290 Jay Kim,53953 Steven Forge New Adam  UT 17386,1960-02-24,848\n"
     ]
    }
   ],
   "source": [
    "# For Company\n",
    "companies_names = ['Top Cab','Taxicab Insurance Agency, LLC','Patriot Taxi Dba Peace Taxi Associat','Taxi Affiliation Services Llc - Yell','2733 - 74600 Benny Jona','5167 - 71969 5167 Taxi Inc','6574 - Babylon Express Inc.','Petani Cab Corp','Sun Taxi','5 Star Taxi','City Service','Choice Taxi Association Inc','Choice Taxi Association','Medallion Leasin','312 Medallion Management Corp','Globe Taxi','Flash Cab','Chicago Independents','Setare Inc','Chicago Taxicab','Koam Taxi Association','Metro Jet Taxi A.','Tac - Yellow Cab Association','3591 - 63480 Chuks Cab','Star North Taxi Management Llc','Tac - Checker Cab Dispatch','4787 - 56058 Reny Cab Co','Taxi Affiliation Services','Taxicab Insurance Agency Llc','U Taxicab','Blue Ribbon Taxi Association','Chicago City Taxi Association','4053 - 40193 Adwar H. Nikola','3556 - 36214 RC Andrews Cab','4623 - 27290 Jay Kim']\n",
    "for name in companies_names:\n",
    "    profile = fake.profile()\n",
    "    print(f\"{profile['ssn']},{name},{profile['address'].replace('\\n',' ').replace(',',' ')},{profile['birthdate']},{fake.random_number(digits=3, fix_len=False)}\")"
   ]
  },
  {
   "cell_type": "code",
   "execution_count": null,
   "metadata": {},
   "outputs": [],
   "source": [
    "# For Company\n",
    "with open(\"/home/mike/Projects/personal/bp_duck_as_query_engine/data/raw/creditcard.csv\", \"w\") as cc_file:\n",
    "    cc_file.write(\"credit_card_number,expire_date,cvc_code,provider,owner_name\\n\")\n",
    "    for _ in range(1000):\n",
    "        credit_card_info = fake.credit_card_full().split(\"\\n\")\n",
    "        cc_file.write(\n",
    "            f\"{credit_card_info[2].split()[0]},{credit_card_info[2].split()[1]},{credit_card_info[3]},{credit_card_info[0]},{credit_card_info[1]}\\n\"\n",
    "        )\n",
    "        # print(f\"{credit_card_info[2].split()[0]},{credit_card_info[2].split()[1]},{credit_card_info[3]},{credit_card_info[0]},{credit_card_info[1]}\")"
   ]
  }
 ],
 "metadata": {
  "kernelspec": {
   "display_name": "lab_env",
   "language": "python",
   "name": "python3"
  },
  "language_info": {
   "codemirror_mode": {
    "name": "ipython",
    "version": 3
   },
   "file_extension": ".py",
   "mimetype": "text/x-python",
   "name": "python",
   "nbconvert_exporter": "python",
   "pygments_lexer": "ipython3",
   "version": "3.12.7"
  }
 },
 "nbformat": 4,
 "nbformat_minor": 2
}
